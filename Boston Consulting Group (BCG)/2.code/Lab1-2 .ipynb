{
 "cells": [
  {
   "cell_type": "markdown",
   "metadata": {},
   "source": [
    "# Programming Concepts and Practice\n",
    "## Lab 1"
   ]
  },
  {
   "cell_type": "markdown",
   "metadata": {},
   "source": [
    "We will be using Jupyter notebooks for most of the exercises, so get yourself familiar with them!\n",
    "Note in particular that there are three types of cells, and we will mostly be using the first two:\n",
    "- Markdown: Text descriptions with some lightweight formatting (like this one).\n",
    "- Code: Executable pieces of code (like the one just below).\n",
    "- Raw: Won't be processed by the kernel; only useful for special use cases.\n",
    "\n",
    "Let us start with some example code in the slides."
   ]
  },
  {
   "cell_type": "code",
   "execution_count": 4,
   "metadata": {},
   "outputs": [
    {
     "name": "stdout",
     "output_type": "stream",
     "text": [
      "-----Greetings-----\n",
      "\n",
      "Yomi, welcome to Programming Concepts and Practice\n"
     ]
    }
   ],
   "source": [
    "#The program declares two variables name\n",
    "#Using the name, it prints the greeting.\n",
    "name = \"Yomi\"\n",
    "greeting = \"welcome to Programming Concepts and Practice\"\n",
    "print(\"-----Greetings-----\")\n",
    "print()\n",
    "print(name, greeting)"
   ]
  },
  {
   "cell_type": "code",
   "execution_count": 11,
   "metadata": {},
   "outputs": [
    {
     "name": "stdin",
     "output_type": "stream",
     "text": [
      "What is the temperature in degree Fahrenheit, please ?  190\n"
     ]
    },
    {
     "name": "stdout",
     "output_type": "stream",
     "text": [
      "The temperature is  88  Degree Celsius.\n"
     ]
    }
   ],
   "source": [
    "#convertTemperature.py\n",
    "# A program that converts temperature in degrees\n",
    "#Fahrenheit to  degrees Celsius\n",
    "# by: Yomi Otebolaku\n",
    "\n",
    "def convertTemperature():#function(dont worry yet about functions)\n",
    "    #input the temperature in Fahrenheit degrees\n",
    "    fahrenheit = int(input(\"What is the temperature in degrees Fahrenheit, please ? \"))\n",
    "    #process the input by converting to celsius\n",
    "    celsius = (fahrenheit - 32)*(5/9)  \n",
    "    #Output the result(temperature in celsius degrees, rounded to the nearest integer)\n",
    "    print(\"The temperature is\", int(round(celsius)), \"degrees Celsius.\")\n",
    "\n",
    "convertTemperature()#call the function"
   ]
  },
  {
   "cell_type": "markdown",
   "metadata": {},
   "source": [
    "Now we can start with the exercises!"
   ]
  },
  {
   "cell_type": "markdown",
   "metadata": {},
   "source": [
    "1. Modify the convertTemperature program, without using function, to convert degrees Celsius to degrees Fahrenheit. "
   ]
  },
  {
   "cell_type": "code",
   "execution_count": 19,
   "metadata": {},
   "outputs": [
    {
     "name": "stdout",
     "output_type": "stream",
     "text": [
      "Enter the temperature in Celsius:88\n",
      "The temperature is 190 Fahrenheit\n"
     ]
    }
   ],
   "source": [
    "cel = int(input(\"Enter the temperature in Celsius:\"))\n",
    "far = (cel * (9/5)) + 32\n",
    "print (\"The temperature is\",round(far), \"Fahrenheit\")"
   ]
  },
  {
   "cell_type": "markdown",
   "metadata": {},
   "source": [
    "2. Write a program that accepts and converts distances measured in kilometers to miles. The distance in miles should be rounded to an integer and printed on the computer screen. Hint: 1 kilometre is approximately 0.62 miles."
   ]
  },
  {
   "cell_type": "code",
   "execution_count": 7,
   "metadata": {},
   "outputs": [
    {
     "name": "stdout",
     "output_type": "stream",
     "text": [
      "Enter the distance in KM : 20\n",
      "km in Miles is 12.42\n"
     ]
    }
   ],
   "source": [
    "km = int(input(\"Enter the distance in KM : \"))\n",
    "ml = km*0.621\n",
    "print(\"km in Miles is\",ml)"
   ]
  },
  {
   "cell_type": "markdown",
   "metadata": {},
   "source": [
    "3. Write a program to compute the volume and surface area of a sphere from its radius, given as input.\n",
    "\n",
    "Hint: You need the formular for computing area and volume of a sphere.\n"
   ]
  },
  {
   "cell_type": "code",
   "execution_count": 17,
   "metadata": {},
   "outputs": [
    {
     "name": "stdout",
     "output_type": "stream",
     "text": [
      "Enter radius of a sphere: 10\n",
      "Surface Area of a Sphere is:  1256.6370614359173 Volume of a Sphere is:  4188.790204786391\n"
     ]
    }
   ],
   "source": [
    "from math import pi\n",
    "rad = int(input(\"Enter radius of a sphere: \"))\n",
    "SA = (4 * pi) * rad**2\n",
    "V = ((4/3) * pi) * rad**3 #Formula for Voulme = (4/3)πr3\n",
    "print (\"Surface Area of a Sphere is: \",SA,\"Volume of a Sphere is: \",V)"
   ]
  },
  {
   "cell_type": "markdown",
   "metadata": {},
   "source": [
    "4. Write a program to read in a 3 digit number and, using maths, reverse it (e.g. 123 becomes 321). An algorithm is outlined below:\n",
    " 1. Ask the user for a 3 digit number\n",
    " 2. Store it into a variable called number - remember to convert to an int\n",
    " 3. Set a variable called hundreds to the result of number // 100 \n",
    " 4. Set a variable called tens to the result of (number % 100) // 10\n",
    " 5. Set a variable called units to the result of number % 10\n",
    " 6. Display to the screen in the order units, tens, hundreds – effectively reversing it\n",
    " "
   ]
  },
  {
   "cell_type": "code",
   "execution_count": 15,
   "metadata": {},
   "outputs": [
    {
     "name": "stdout",
     "output_type": "stream",
     "text": [
      "enter a three digit number: 1234\n",
      "This is not a three digit number\n"
     ]
    }
   ],
   "source": [
    "num = int(input('enter a three digit number: '))\n",
    "if len(str(num))==3:\n",
    "    hundreds=num//100\n",
    "    tens=(num%100)//10\n",
    "    unit=num%10\n",
    "    print (\"%s%s%s\"%(unit,tens,hundreds))\n",
    "else:\n",
    "    print(\"This is not a three digit number\")"
   ]
  },
  {
   "cell_type": "markdown",
   "metadata": {},
   "source": [
    "5. The amount of energy required to increase temperature of one gram of a material by one degree Celsius is called the material's specific heat, $c$. The total amount of energy required to raise $m$ grams of a material by $\\Delta T$ degrees Celsius can be computed using the formula:\n",
    "\n",
    " $q = m \\cdot c \\cdot \\Delta T$.\n",
    "\n",
    "Write a program that reads the mass of some water and the temperature change from the user. Your program should display the total amount of energy that must be added or removed to achieve the desired temperature change.\n",
    "\n",
    "Hint: The specific heat of water is  4.186 $J/(g \\cdot {}^\\circ C)$.  Since water has a density of 1.0 gram per millilitre, you can use grams and millilitres interchangeably in this programming exercise.\n",
    "Now extend your program so that it also computes the cost of heating the water. Electricity is normally billed using units of kilowatts hours rather than Joules. In this exercise, you should assume that electricity costs 8.9 pence per kilowatt-hour. Use your program to compute the cost of boiling water for a cup of coffee.\n",
    "Hint: You need to look up the factor for converting between Joules and kilowatt hours to complete the last part of this exercise."
   ]
  },
  {
   "cell_type": "code",
   "execution_count": null,
   "metadata": {},
   "outputs": [
    {
     "name": "stdout",
     "output_type": "stream",
     "text": [
      "Enter you mass of water in gram: 500\n",
      "Enter your desire water Temperature in Celsius: 20\n",
      "Energy required is: \n",
      "\t 41860.0 Joules\n",
      "Energy in kWh: \n",
      "\t 0.011627777777777779  kWh\n",
      "Cost of energy usage is: \n",
      "\t 0.0013064918851435705 pence\n",
      "\n",
      "\n",
      "Here we are calculating the cost of boiling water for cup of coffe\n"
     ]
    }
   ],
   "source": [
    "#defining a function called measureE() to measure energy\n",
    "def measureE():\n",
    "    #first get integer input from user for both mass and temperature of water\n",
    "    water_mass = int(input(\"Enter you mass of water in gram: \"))\n",
    "    water_temp = int(input(\"Enter your desire water Temperature in Celsius: \"))\n",
    "\n",
    "    #calculating the energy required to meet the desire temperature\n",
    "    energy_rq = water_mass * water_temp * 4.186\n",
    "    print(\"Energy required is: \\n\\t\", energy_rq, \"Joules\")\n",
    "\n",
    "    #converting Joules into kilowatt-hours\n",
    "    kw = energy_rq / 3600000\n",
    "    print(\"Energy in kWh: \\n\\t\", kw,\" kWh\")\n",
    "\n",
    "    #Calculating the cost in pence if electricity costs 8.9 pence per kilowatt-hour\n",
    "    cost = kw / 8.9 \n",
    "    print(\"Cost of energy usage is: \\n\\t\", cost, \"pence\\n\")\n",
    "\n",
    "measureE()\n",
    "\n",
    "#defining a function to calculate the cost of boilling water for cup of coffee:\n",
    "def coffecost():\n",
    "    print(\"\\nHere we are calculating the cost of boiling water for cup of coffee\")\n",
    "    #first get integer input from user for both mass and temperature of water\n",
    "    water_mass = int(input(\"How much of water you want for coffee in gram: \"))\n",
    "    water_temp = int(input(\"Enter the water Temperature of water in Celsius: \"))\n",
    "\n",
    "    #calculating the energy required to meet the desire temperature\n",
    "    energy_rq = water_mass * water_temp * 4.186\n",
    "\n",
    "    #converting Joules into kilowatt-hours\n",
    "    kw = energy_rq / 3600000\n",
    "\n",
    "    #Calculating the cost of coffe in pence\n",
    "    cost = kw / 8.9 \n",
    "    print(\"Cost for boiling water is: \\n\\t\\t\", cost, \"pence\")\n",
    "\n",
    "coffecost()\n",
    "    "
   ]
  },
  {
   "cell_type": "code",
   "execution_count": null,
   "metadata": {},
   "outputs": [],
   "source": []
  },
  {
   "cell_type": "code",
   "execution_count": null,
   "metadata": {},
   "outputs": [],
   "source": []
  },
  {
   "cell_type": "code",
   "execution_count": null,
   "metadata": {},
   "outputs": [],
   "source": []
  }
 ],
 "metadata": {
  "kernelspec": {
   "display_name": "Python 3",
   "language": "python",
   "name": "python3"
  },
  "language_info": {
   "codemirror_mode": {
    "name": "ipython",
    "version": 3
   },
   "file_extension": ".py",
   "mimetype": "text/x-python",
   "name": "python",
   "nbconvert_exporter": "python",
   "pygments_lexer": "ipython3",
   "version": "3.8.5"
  }
 },
 "nbformat": 4,
 "nbformat_minor": 2
}
